{
 "cells": [
  {
   "cell_type": "code",
   "execution_count": 1,
   "metadata": {},
   "outputs": [],
   "source": [
    "import tensorflow as tf"
   ]
  },
  {
   "cell_type": "code",
   "execution_count": 2,
   "metadata": {},
   "outputs": [
    {
     "data": {
      "text/plain": [
       "'2.4.0'"
      ]
     },
     "execution_count": 2,
     "metadata": {},
     "output_type": "execute_result"
    }
   ],
   "source": [
    "tf.__version__"
   ]
  },
  {
   "cell_type": "markdown",
   "metadata": {},
   "source": [
    "## Business Objective: To create a LSTM network and predict a stock price with multivariate data"
   ]
  },
  {
   "cell_type": "code",
   "execution_count": 3,
   "metadata": {},
   "outputs": [],
   "source": [
    "import pandas_datareader as pdr\n",
    "import pandas as pd\n",
    "import datetime as dt\n",
    "from datetime import datetime"
   ]
  },
  {
   "cell_type": "code",
   "execution_count": 4,
   "metadata": {},
   "outputs": [],
   "source": [
    "key = \"7d330fa19a4322f49491b39c0997502b7380e68\""
   ]
  },
  {
   "cell_type": "code",
   "execution_count": 5,
   "metadata": {},
   "outputs": [],
   "source": [
    "ticker = \"GOOG\" # We are using the Google stock"
   ]
  },
  {
   "cell_type": "code",
   "execution_count": 6,
   "metadata": {},
   "outputs": [],
   "source": [
    "data = pdr.get_data_tiingo(ticker,api_key=key)"
   ]
  },
  {
   "cell_type": "code",
   "execution_count": 7,
   "metadata": {},
   "outputs": [],
   "source": [
    "data.to_csv(\"google_Stock.csv\")"
   ]
  },
  {
   "cell_type": "markdown",
   "metadata": {},
   "source": [
    "### We have used tiingo and pulled the data for google stock and saved it in csv format"
   ]
  },
  {
   "cell_type": "code",
   "execution_count": 8,
   "metadata": {},
   "outputs": [],
   "source": [
    "df = pd.read_csv('google_Stock.csv')"
   ]
  },
  {
   "cell_type": "code",
   "execution_count": 9,
   "metadata": {},
   "outputs": [
    {
     "data": {
      "text/html": [
       "<div>\n",
       "<style scoped>\n",
       "    .dataframe tbody tr th:only-of-type {\n",
       "        vertical-align: middle;\n",
       "    }\n",
       "\n",
       "    .dataframe tbody tr th {\n",
       "        vertical-align: top;\n",
       "    }\n",
       "\n",
       "    .dataframe thead th {\n",
       "        text-align: right;\n",
       "    }\n",
       "</style>\n",
       "<table border=\"1\" class=\"dataframe\">\n",
       "  <thead>\n",
       "    <tr style=\"text-align: right;\">\n",
       "      <th></th>\n",
       "      <th>symbol</th>\n",
       "      <th>date</th>\n",
       "      <th>close</th>\n",
       "      <th>high</th>\n",
       "      <th>low</th>\n",
       "      <th>open</th>\n",
       "      <th>volume</th>\n",
       "      <th>adjClose</th>\n",
       "      <th>adjHigh</th>\n",
       "      <th>adjLow</th>\n",
       "      <th>adjOpen</th>\n",
       "      <th>adjVolume</th>\n",
       "      <th>divCash</th>\n",
       "      <th>splitFactor</th>\n",
       "    </tr>\n",
       "  </thead>\n",
       "  <tbody>\n",
       "    <tr>\n",
       "      <th>0</th>\n",
       "      <td>GOOG</td>\n",
       "      <td>2016-02-29 00:00:00+00:00</td>\n",
       "      <td>697.77</td>\n",
       "      <td>710.89</td>\n",
       "      <td>697.68</td>\n",
       "      <td>700.32</td>\n",
       "      <td>2481145</td>\n",
       "      <td>697.77</td>\n",
       "      <td>710.89</td>\n",
       "      <td>697.68</td>\n",
       "      <td>700.32</td>\n",
       "      <td>2481145</td>\n",
       "      <td>0.0</td>\n",
       "      <td>1.0</td>\n",
       "    </tr>\n",
       "    <tr>\n",
       "      <th>1</th>\n",
       "      <td>GOOG</td>\n",
       "      <td>2016-03-01 00:00:00+00:00</td>\n",
       "      <td>718.81</td>\n",
       "      <td>718.81</td>\n",
       "      <td>699.77</td>\n",
       "      <td>703.62</td>\n",
       "      <td>2151419</td>\n",
       "      <td>718.81</td>\n",
       "      <td>718.81</td>\n",
       "      <td>699.77</td>\n",
       "      <td>703.62</td>\n",
       "      <td>2151419</td>\n",
       "      <td>0.0</td>\n",
       "      <td>1.0</td>\n",
       "    </tr>\n",
       "    <tr>\n",
       "      <th>2</th>\n",
       "      <td>GOOG</td>\n",
       "      <td>2016-03-02 00:00:00+00:00</td>\n",
       "      <td>718.85</td>\n",
       "      <td>720.00</td>\n",
       "      <td>712.00</td>\n",
       "      <td>719.00</td>\n",
       "      <td>1629003</td>\n",
       "      <td>718.85</td>\n",
       "      <td>720.00</td>\n",
       "      <td>712.00</td>\n",
       "      <td>719.00</td>\n",
       "      <td>1629003</td>\n",
       "      <td>0.0</td>\n",
       "      <td>1.0</td>\n",
       "    </tr>\n",
       "    <tr>\n",
       "      <th>3</th>\n",
       "      <td>GOOG</td>\n",
       "      <td>2016-03-03 00:00:00+00:00</td>\n",
       "      <td>712.42</td>\n",
       "      <td>719.45</td>\n",
       "      <td>706.02</td>\n",
       "      <td>718.68</td>\n",
       "      <td>1957974</td>\n",
       "      <td>712.42</td>\n",
       "      <td>719.45</td>\n",
       "      <td>706.02</td>\n",
       "      <td>718.68</td>\n",
       "      <td>1957974</td>\n",
       "      <td>0.0</td>\n",
       "      <td>1.0</td>\n",
       "    </tr>\n",
       "    <tr>\n",
       "      <th>4</th>\n",
       "      <td>GOOG</td>\n",
       "      <td>2016-03-04 00:00:00+00:00</td>\n",
       "      <td>710.89</td>\n",
       "      <td>716.49</td>\n",
       "      <td>706.02</td>\n",
       "      <td>714.99</td>\n",
       "      <td>1972077</td>\n",
       "      <td>710.89</td>\n",
       "      <td>716.49</td>\n",
       "      <td>706.02</td>\n",
       "      <td>714.99</td>\n",
       "      <td>1972077</td>\n",
       "      <td>0.0</td>\n",
       "      <td>1.0</td>\n",
       "    </tr>\n",
       "  </tbody>\n",
       "</table>\n",
       "</div>"
      ],
      "text/plain": [
       "  symbol                       date   close    high     low    open   volume  \\\n",
       "0   GOOG  2016-02-29 00:00:00+00:00  697.77  710.89  697.68  700.32  2481145   \n",
       "1   GOOG  2016-03-01 00:00:00+00:00  718.81  718.81  699.77  703.62  2151419   \n",
       "2   GOOG  2016-03-02 00:00:00+00:00  718.85  720.00  712.00  719.00  1629003   \n",
       "3   GOOG  2016-03-03 00:00:00+00:00  712.42  719.45  706.02  718.68  1957974   \n",
       "4   GOOG  2016-03-04 00:00:00+00:00  710.89  716.49  706.02  714.99  1972077   \n",
       "\n",
       "   adjClose  adjHigh  adjLow  adjOpen  adjVolume  divCash  splitFactor  \n",
       "0    697.77   710.89  697.68   700.32    2481145      0.0          1.0  \n",
       "1    718.81   718.81  699.77   703.62    2151419      0.0          1.0  \n",
       "2    718.85   720.00  712.00   719.00    1629003      0.0          1.0  \n",
       "3    712.42   719.45  706.02   718.68    1957974      0.0          1.0  \n",
       "4    710.89   716.49  706.02   714.99    1972077      0.0          1.0  "
      ]
     },
     "execution_count": 9,
     "metadata": {},
     "output_type": "execute_result"
    }
   ],
   "source": [
    "df.head()"
   ]
  },
  {
   "cell_type": "code",
   "execution_count": 10,
   "metadata": {},
   "outputs": [
    {
     "name": "stdout",
     "output_type": "stream",
     "text": [
      "<class 'pandas.core.frame.DataFrame'>\n",
      "RangeIndex: 1259 entries, 0 to 1258\n",
      "Data columns (total 14 columns):\n",
      " #   Column       Non-Null Count  Dtype  \n",
      "---  ------       --------------  -----  \n",
      " 0   symbol       1259 non-null   object \n",
      " 1   date         1259 non-null   object \n",
      " 2   close        1259 non-null   float64\n",
      " 3   high         1259 non-null   float64\n",
      " 4   low          1259 non-null   float64\n",
      " 5   open         1259 non-null   float64\n",
      " 6   volume       1259 non-null   int64  \n",
      " 7   adjClose     1259 non-null   float64\n",
      " 8   adjHigh      1259 non-null   float64\n",
      " 9   adjLow       1259 non-null   float64\n",
      " 10  adjOpen      1259 non-null   float64\n",
      " 11  adjVolume    1259 non-null   int64  \n",
      " 12  divCash      1259 non-null   float64\n",
      " 13  splitFactor  1259 non-null   float64\n",
      "dtypes: float64(10), int64(2), object(2)\n",
      "memory usage: 137.8+ KB\n"
     ]
    }
   ],
   "source": [
    "df.info()"
   ]
  },
  {
   "cell_type": "code",
   "execution_count": 11,
   "metadata": {},
   "outputs": [
    {
     "data": {
      "text/html": [
       "<div>\n",
       "<style scoped>\n",
       "    .dataframe tbody tr th:only-of-type {\n",
       "        vertical-align: middle;\n",
       "    }\n",
       "\n",
       "    .dataframe tbody tr th {\n",
       "        vertical-align: top;\n",
       "    }\n",
       "\n",
       "    .dataframe thead th {\n",
       "        text-align: right;\n",
       "    }\n",
       "</style>\n",
       "<table border=\"1\" class=\"dataframe\">\n",
       "  <thead>\n",
       "    <tr style=\"text-align: right;\">\n",
       "      <th></th>\n",
       "      <th>count</th>\n",
       "      <th>mean</th>\n",
       "      <th>std</th>\n",
       "      <th>min</th>\n",
       "      <th>25%</th>\n",
       "      <th>50%</th>\n",
       "      <th>75%</th>\n",
       "      <th>max</th>\n",
       "    </tr>\n",
       "  </thead>\n",
       "  <tbody>\n",
       "    <tr>\n",
       "      <th>close</th>\n",
       "      <td>1259.0</td>\n",
       "      <td>1.127137e+03</td>\n",
       "      <td>298.402149</td>\n",
       "      <td>668.260</td>\n",
       "      <td>9.212850e+02</td>\n",
       "      <td>1101.16</td>\n",
       "      <td>1261.880</td>\n",
       "      <td>2128.31</td>\n",
       "    </tr>\n",
       "    <tr>\n",
       "      <th>high</th>\n",
       "      <td>1259.0</td>\n",
       "      <td>1.137438e+03</td>\n",
       "      <td>302.666381</td>\n",
       "      <td>672.300</td>\n",
       "      <td>9.264450e+02</td>\n",
       "      <td>1111.77</td>\n",
       "      <td>1269.180</td>\n",
       "      <td>2152.68</td>\n",
       "    </tr>\n",
       "    <tr>\n",
       "      <th>low</th>\n",
       "      <td>1259.0</td>\n",
       "      <td>1.115862e+03</td>\n",
       "      <td>293.871218</td>\n",
       "      <td>663.284</td>\n",
       "      <td>9.138915e+02</td>\n",
       "      <td>1089.78</td>\n",
       "      <td>1244.315</td>\n",
       "      <td>2104.36</td>\n",
       "    </tr>\n",
       "    <tr>\n",
       "      <th>open</th>\n",
       "      <td>1259.0</td>\n",
       "      <td>1.126187e+03</td>\n",
       "      <td>297.538791</td>\n",
       "      <td>671.000</td>\n",
       "      <td>9.218500e+02</td>\n",
       "      <td>1102.09</td>\n",
       "      <td>1253.215</td>\n",
       "      <td>2119.27</td>\n",
       "    </tr>\n",
       "    <tr>\n",
       "      <th>volume</th>\n",
       "      <td>1259.0</td>\n",
       "      <td>1.625615e+06</td>\n",
       "      <td>709039.023676</td>\n",
       "      <td>346753.000</td>\n",
       "      <td>1.190922e+06</td>\n",
       "      <td>1446453.00</td>\n",
       "      <td>1832502.000</td>\n",
       "      <td>6207027.00</td>\n",
       "    </tr>\n",
       "    <tr>\n",
       "      <th>adjClose</th>\n",
       "      <td>1259.0</td>\n",
       "      <td>1.127137e+03</td>\n",
       "      <td>298.402149</td>\n",
       "      <td>668.260</td>\n",
       "      <td>9.212850e+02</td>\n",
       "      <td>1101.16</td>\n",
       "      <td>1261.880</td>\n",
       "      <td>2128.31</td>\n",
       "    </tr>\n",
       "    <tr>\n",
       "      <th>adjHigh</th>\n",
       "      <td>1259.0</td>\n",
       "      <td>1.137438e+03</td>\n",
       "      <td>302.666383</td>\n",
       "      <td>672.300</td>\n",
       "      <td>9.264450e+02</td>\n",
       "      <td>1111.77</td>\n",
       "      <td>1269.180</td>\n",
       "      <td>2152.68</td>\n",
       "    </tr>\n",
       "    <tr>\n",
       "      <th>adjLow</th>\n",
       "      <td>1259.0</td>\n",
       "      <td>1.115862e+03</td>\n",
       "      <td>293.871226</td>\n",
       "      <td>663.284</td>\n",
       "      <td>9.138915e+02</td>\n",
       "      <td>1089.78</td>\n",
       "      <td>1244.315</td>\n",
       "      <td>2104.36</td>\n",
       "    </tr>\n",
       "    <tr>\n",
       "      <th>adjOpen</th>\n",
       "      <td>1259.0</td>\n",
       "      <td>1.126187e+03</td>\n",
       "      <td>297.538791</td>\n",
       "      <td>671.000</td>\n",
       "      <td>9.218500e+02</td>\n",
       "      <td>1102.09</td>\n",
       "      <td>1253.215</td>\n",
       "      <td>2119.27</td>\n",
       "    </tr>\n",
       "    <tr>\n",
       "      <th>adjVolume</th>\n",
       "      <td>1259.0</td>\n",
       "      <td>1.625615e+06</td>\n",
       "      <td>709039.023676</td>\n",
       "      <td>346753.000</td>\n",
       "      <td>1.190922e+06</td>\n",
       "      <td>1446453.00</td>\n",
       "      <td>1832502.000</td>\n",
       "      <td>6207027.00</td>\n",
       "    </tr>\n",
       "    <tr>\n",
       "      <th>divCash</th>\n",
       "      <td>1259.0</td>\n",
       "      <td>0.000000e+00</td>\n",
       "      <td>0.000000</td>\n",
       "      <td>0.000</td>\n",
       "      <td>0.000000e+00</td>\n",
       "      <td>0.00</td>\n",
       "      <td>0.000</td>\n",
       "      <td>0.00</td>\n",
       "    </tr>\n",
       "    <tr>\n",
       "      <th>splitFactor</th>\n",
       "      <td>1259.0</td>\n",
       "      <td>1.000000e+00</td>\n",
       "      <td>0.000000</td>\n",
       "      <td>1.000</td>\n",
       "      <td>1.000000e+00</td>\n",
       "      <td>1.00</td>\n",
       "      <td>1.000</td>\n",
       "      <td>1.00</td>\n",
       "    </tr>\n",
       "  </tbody>\n",
       "</table>\n",
       "</div>"
      ],
      "text/plain": [
       "              count          mean            std         min           25%  \\\n",
       "close        1259.0  1.127137e+03     298.402149     668.260  9.212850e+02   \n",
       "high         1259.0  1.137438e+03     302.666381     672.300  9.264450e+02   \n",
       "low          1259.0  1.115862e+03     293.871218     663.284  9.138915e+02   \n",
       "open         1259.0  1.126187e+03     297.538791     671.000  9.218500e+02   \n",
       "volume       1259.0  1.625615e+06  709039.023676  346753.000  1.190922e+06   \n",
       "adjClose     1259.0  1.127137e+03     298.402149     668.260  9.212850e+02   \n",
       "adjHigh      1259.0  1.137438e+03     302.666383     672.300  9.264450e+02   \n",
       "adjLow       1259.0  1.115862e+03     293.871226     663.284  9.138915e+02   \n",
       "adjOpen      1259.0  1.126187e+03     297.538791     671.000  9.218500e+02   \n",
       "adjVolume    1259.0  1.625615e+06  709039.023676  346753.000  1.190922e+06   \n",
       "divCash      1259.0  0.000000e+00       0.000000       0.000  0.000000e+00   \n",
       "splitFactor  1259.0  1.000000e+00       0.000000       1.000  1.000000e+00   \n",
       "\n",
       "                    50%          75%         max  \n",
       "close           1101.16     1261.880     2128.31  \n",
       "high            1111.77     1269.180     2152.68  \n",
       "low             1089.78     1244.315     2104.36  \n",
       "open            1102.09     1253.215     2119.27  \n",
       "volume       1446453.00  1832502.000  6207027.00  \n",
       "adjClose        1101.16     1261.880     2128.31  \n",
       "adjHigh         1111.77     1269.180     2152.68  \n",
       "adjLow          1089.78     1244.315     2104.36  \n",
       "adjOpen         1102.09     1253.215     2119.27  \n",
       "adjVolume    1446453.00  1832502.000  6207027.00  \n",
       "divCash            0.00        0.000        0.00  \n",
       "splitFactor        1.00        1.000        1.00  "
      ]
     },
     "execution_count": 11,
     "metadata": {},
     "output_type": "execute_result"
    }
   ],
   "source": [
    "df.describe().T"
   ]
  },
  {
   "cell_type": "code",
   "execution_count": 12,
   "metadata": {},
   "outputs": [
    {
     "data": {
      "text/plain": [
       "(1259, 14)"
      ]
     },
     "execution_count": 12,
     "metadata": {},
     "output_type": "execute_result"
    }
   ],
   "source": [
    "df.shape"
   ]
  },
  {
   "cell_type": "code",
   "execution_count": 13,
   "metadata": {},
   "outputs": [
    {
     "data": {
      "text/plain": [
       "'2016-02-29 00:00:00+00:00'"
      ]
     },
     "execution_count": 13,
     "metadata": {},
     "output_type": "execute_result"
    }
   ],
   "source": [
    "df['date'].min()"
   ]
  },
  {
   "cell_type": "code",
   "execution_count": 14,
   "metadata": {},
   "outputs": [
    {
     "data": {
      "text/plain": [
       "'2021-02-26 00:00:00+00:00'"
      ]
     },
     "execution_count": 14,
     "metadata": {},
     "output_type": "execute_result"
    }
   ],
   "source": [
    "df['date'].max()"
   ]
  },
  {
   "cell_type": "markdown",
   "metadata": {},
   "source": [
    "### From the date column we've got the data from 2016 Feb to 2021 Feb"
   ]
  },
  {
   "cell_type": "code",
   "execution_count": 15,
   "metadata": {},
   "outputs": [
    {
     "data": {
      "text/plain": [
       "symbol         0\n",
       "date           0\n",
       "close          0\n",
       "high           0\n",
       "low            0\n",
       "open           0\n",
       "volume         0\n",
       "adjClose       0\n",
       "adjHigh        0\n",
       "adjLow         0\n",
       "adjOpen        0\n",
       "adjVolume      0\n",
       "divCash        0\n",
       "splitFactor    0\n",
       "dtype: int64"
      ]
     },
     "execution_count": 15,
     "metadata": {},
     "output_type": "execute_result"
    }
   ],
   "source": [
    "df.isnull().sum()"
   ]
  },
  {
   "cell_type": "markdown",
   "metadata": {},
   "source": [
    "### No Null Values"
   ]
  },
  {
   "cell_type": "code",
   "execution_count": 16,
   "metadata": {},
   "outputs": [],
   "source": [
    "datelist_train = pd.to_datetime(df['date'])"
   ]
  },
  {
   "cell_type": "code",
   "execution_count": 17,
   "metadata": {},
   "outputs": [
    {
     "data": {
      "text/plain": [
       "0   2016-02-29 00:00:00+00:00\n",
       "1   2016-03-01 00:00:00+00:00\n",
       "2   2016-03-02 00:00:00+00:00\n",
       "3   2016-03-03 00:00:00+00:00\n",
       "4   2016-03-04 00:00:00+00:00\n",
       "Name: date, dtype: datetime64[ns, UTC]"
      ]
     },
     "execution_count": 17,
     "metadata": {},
     "output_type": "execute_result"
    }
   ],
   "source": [
    "datelist_train[0:5]"
   ]
  },
  {
   "cell_type": "markdown",
   "metadata": {},
   "source": [
    "### Importing Required Libraries"
   ]
  },
  {
   "cell_type": "code",
   "execution_count": 18,
   "metadata": {},
   "outputs": [],
   "source": [
    "import numpy as np\n",
    "import matplotlib.pyplot as plt\n",
    "import seaborn as sns"
   ]
  },
  {
   "cell_type": "code",
   "execution_count": 19,
   "metadata": {},
   "outputs": [
    {
     "data": {
      "text/plain": [
       "Index(['symbol', 'date', 'close', 'high', 'low', 'open', 'volume', 'adjClose',\n",
       "       'adjHigh', 'adjLow', 'adjOpen', 'adjVolume', 'divCash', 'splitFactor'],\n",
       "      dtype='object')"
      ]
     },
     "execution_count": 19,
     "metadata": {},
     "output_type": "execute_result"
    }
   ],
   "source": [
    "df.columns"
   ]
  },
  {
   "cell_type": "code",
   "execution_count": 20,
   "metadata": {},
   "outputs": [
    {
     "data": {
      "text/plain": [
       "[<matplotlib.lines.Line2D at 0x10cae2b0>]"
      ]
     },
     "execution_count": 20,
     "metadata": {},
     "output_type": "execute_result"
    },
    {
     "data": {
      "image/png": "[encoded data removed]",
      "text/plain": [
       "<Figure size 432x288 with 1 Axes>"
      ]
     },
     "metadata": {
      "needs_background": "light"
     },
     "output_type": "display_data"
    }
   ],
   "source": [
    "plt.plot(df['close'])"
   ]
  },
  {
   "cell_type": "code",
   "execution_count": 21,
   "metadata": {},
   "outputs": [
    {
     "data": {
      "text/plain": [
       "array([<AxesSubplot:xlabel='date'>, <AxesSubplot:xlabel='date'>,\n",
       "       <AxesSubplot:xlabel='date'>, <AxesSubplot:xlabel='date'>,\n",
       "       <AxesSubplot:xlabel='date'>, <AxesSubplot:xlabel='date'>],\n",
       "      dtype=object)"
      ]
     },
     "execution_count": 21,
     "metadata": {},
     "output_type": "execute_result"
    },
    {
     "data": {
      "image/png": "[encoded data removed]",
      "text/plain": [
       "<Figure size 432x288 with 6 Axes>"
      ]
     },
     "metadata": {
      "needs_background": "light"
     },
     "output_type": "display_data"
    }
   ],
   "source": [
    "df.set_index('date')[['close', 'high', 'low', 'open', 'volume', 'adjClose']].plot(subplots=True)"
   ]
  },
  {
   "cell_type": "markdown",
   "metadata": {},
   "source": [
    "### We are using 6 columns to predict the closing value of the stock which is represented by column - 'close'"
   ]
  },
  {
   "cell_type": "code",
   "execution_count": 22,
   "metadata": {},
   "outputs": [
    {
     "data": {
      "text/plain": [
       "['close', 'high', 'low', 'open', 'volume', 'adjClose']"
      ]
     },
     "execution_count": 22,
     "metadata": {},
     "output_type": "execute_result"
    }
   ],
   "source": [
    "cols = list(df)[2:8]\n",
    "cols"
   ]
  },
  {
   "cell_type": "code",
   "execution_count": 23,
   "metadata": {},
   "outputs": [
    {
     "data": {
      "text/html": [
       "<div>\n",
       "<style scoped>\n",
       "    .dataframe tbody tr th:only-of-type {\n",
       "        vertical-align: middle;\n",
       "    }\n",
       "\n",
       "    .dataframe tbody tr th {\n",
       "        vertical-align: top;\n",
       "    }\n",
       "\n",
       "    .dataframe thead th {\n",
       "        text-align: right;\n",
       "    }\n",
       "</style>\n",
       "<table border=\"1\" class=\"dataframe\">\n",
       "  <thead>\n",
       "    <tr style=\"text-align: right;\">\n",
       "      <th></th>\n",
       "      <th>close</th>\n",
       "      <th>high</th>\n",
       "      <th>low</th>\n",
       "      <th>open</th>\n",
       "      <th>volume</th>\n",
       "      <th>adjClose</th>\n",
       "    </tr>\n",
       "  </thead>\n",
       "  <tbody>\n",
       "    <tr>\n",
       "      <th>0</th>\n",
       "      <td>697.77</td>\n",
       "      <td>710.8900</td>\n",
       "      <td>697.68</td>\n",
       "      <td>700.32</td>\n",
       "      <td>2481145</td>\n",
       "      <td>697.77</td>\n",
       "    </tr>\n",
       "    <tr>\n",
       "      <th>1</th>\n",
       "      <td>718.81</td>\n",
       "      <td>718.8100</td>\n",
       "      <td>699.77</td>\n",
       "      <td>703.62</td>\n",
       "      <td>2151419</td>\n",
       "      <td>718.81</td>\n",
       "    </tr>\n",
       "    <tr>\n",
       "      <th>2</th>\n",
       "      <td>718.85</td>\n",
       "      <td>720.0000</td>\n",
       "      <td>712.00</td>\n",
       "      <td>719.00</td>\n",
       "      <td>1629003</td>\n",
       "      <td>718.85</td>\n",
       "    </tr>\n",
       "    <tr>\n",
       "      <th>3</th>\n",
       "      <td>712.42</td>\n",
       "      <td>719.4500</td>\n",
       "      <td>706.02</td>\n",
       "      <td>718.68</td>\n",
       "      <td>1957974</td>\n",
       "      <td>712.42</td>\n",
       "    </tr>\n",
       "    <tr>\n",
       "      <th>4</th>\n",
       "      <td>710.89</td>\n",
       "      <td>716.4900</td>\n",
       "      <td>706.02</td>\n",
       "      <td>714.99</td>\n",
       "      <td>1972077</td>\n",
       "      <td>710.89</td>\n",
       "    </tr>\n",
       "    <tr>\n",
       "      <th>...</th>\n",
       "      <td>...</td>\n",
       "      <td>...</td>\n",
       "      <td>...</td>\n",
       "      <td>...</td>\n",
       "      <td>...</td>\n",
       "      <td>...</td>\n",
       "    </tr>\n",
       "    <tr>\n",
       "      <th>1254</th>\n",
       "      <td>2064.88</td>\n",
       "      <td>2091.4200</td>\n",
       "      <td>2062.14</td>\n",
       "      <td>2067.00</td>\n",
       "      <td>1349856</td>\n",
       "      <td>2064.88</td>\n",
       "    </tr>\n",
       "    <tr>\n",
       "      <th>1255</th>\n",
       "      <td>2070.86</td>\n",
       "      <td>2082.0100</td>\n",
       "      <td>2002.02</td>\n",
       "      <td>2025.01</td>\n",
       "      <td>1667377</td>\n",
       "      <td>2070.86</td>\n",
       "    </tr>\n",
       "    <tr>\n",
       "      <th>1256</th>\n",
       "      <td>2095.17</td>\n",
       "      <td>2100.7800</td>\n",
       "      <td>2038.13</td>\n",
       "      <td>2041.83</td>\n",
       "      <td>1248349</td>\n",
       "      <td>2095.17</td>\n",
       "    </tr>\n",
       "    <tr>\n",
       "      <th>1257</th>\n",
       "      <td>2031.36</td>\n",
       "      <td>2094.8800</td>\n",
       "      <td>2021.29</td>\n",
       "      <td>2067.45</td>\n",
       "      <td>1761201</td>\n",
       "      <td>2031.36</td>\n",
       "    </tr>\n",
       "    <tr>\n",
       "      <th>1258</th>\n",
       "      <td>2036.86</td>\n",
       "      <td>2071.0099</td>\n",
       "      <td>2016.06</td>\n",
       "      <td>2050.52</td>\n",
       "      <td>2076974</td>\n",
       "      <td>2036.86</td>\n",
       "    </tr>\n",
       "  </tbody>\n",
       "</table>\n",
       "<p>1259 rows × 6 columns</p>\n",
       "</div>"
      ],
      "text/plain": [
       "        close       high      low     open   volume  adjClose\n",
       "0      697.77   710.8900   697.68   700.32  2481145    697.77\n",
       "1      718.81   718.8100   699.77   703.62  2151419    718.81\n",
       "2      718.85   720.0000   712.00   719.00  1629003    718.85\n",
       "3      712.42   719.4500   706.02   718.68  1957974    712.42\n",
       "4      710.89   716.4900   706.02   714.99  1972077    710.89\n",
       "...       ...        ...      ...      ...      ...       ...\n",
       "1254  2064.88  2091.4200  2062.14  2067.00  1349856   2064.88\n",
       "1255  2070.86  2082.0100  2002.02  2025.01  1667377   2070.86\n",
       "1256  2095.17  2100.7800  2038.13  2041.83  1248349   2095.17\n",
       "1257  2031.36  2094.8800  2021.29  2067.45  1761201   2031.36\n",
       "1258  2036.86  2071.0099  2016.06  2050.52  2076974   2036.86\n",
       "\n",
       "[1259 rows x 6 columns]"
      ]
     },
     "execution_count": 23,
     "metadata": {},
     "output_type": "execute_result"
    }
   ],
   "source": [
    "df[cols]"
   ]
  },
  {
   "cell_type": "code",
   "execution_count": 24,
   "metadata": {},
   "outputs": [],
   "source": [
    "df_for_training = df[cols].astype(float)"
   ]
  },
  {
   "cell_type": "code",
   "execution_count": 25,
   "metadata": {},
   "outputs": [
    {
     "data": {
      "text/html": [
       "<div>\n",
       "<style scoped>\n",
       "    .dataframe tbody tr th:only-of-type {\n",
       "        vertical-align: middle;\n",
       "    }\n",
       "\n",
       "    .dataframe tbody tr th {\n",
       "        vertical-align: top;\n",
       "    }\n",
       "\n",
       "    .dataframe thead th {\n",
       "        text-align: right;\n",
       "    }\n",
       "</style>\n",
       "<table border=\"1\" class=\"dataframe\">\n",
       "  <thead>\n",
       "    <tr style=\"text-align: right;\">\n",
       "      <th></th>\n",
       "      <th>close</th>\n",
       "      <th>high</th>\n",
       "      <th>low</th>\n",
       "      <th>open</th>\n",
       "      <th>volume</th>\n",
       "      <th>adjClose</th>\n",
       "    </tr>\n",
       "  </thead>\n",
       "  <tbody>\n",
       "    <tr>\n",
       "      <th>0</th>\n",
       "      <td>697.77</td>\n",
       "      <td>710.89</td>\n",
       "      <td>697.68</td>\n",
       "      <td>700.32</td>\n",
       "      <td>2481145.0</td>\n",
       "      <td>697.77</td>\n",
       "    </tr>\n",
       "    <tr>\n",
       "      <th>1</th>\n",
       "      <td>718.81</td>\n",
       "      <td>718.81</td>\n",
       "      <td>699.77</td>\n",
       "      <td>703.62</td>\n",
       "      <td>2151419.0</td>\n",
       "      <td>718.81</td>\n",
       "    </tr>\n",
       "    <tr>\n",
       "      <th>2</th>\n",
       "      <td>718.85</td>\n",
       "      <td>720.00</td>\n",
       "      <td>712.00</td>\n",
       "      <td>719.00</td>\n",
       "      <td>1629003.0</td>\n",
       "      <td>718.85</td>\n",
       "    </tr>\n",
       "    <tr>\n",
       "      <th>3</th>\n",
       "      <td>712.42</td>\n",
       "      <td>719.45</td>\n",
       "      <td>706.02</td>\n",
       "      <td>718.68</td>\n",
       "      <td>1957974.0</td>\n",
       "      <td>712.42</td>\n",
       "    </tr>\n",
       "    <tr>\n",
       "      <th>4</th>\n",
       "      <td>710.89</td>\n",
       "      <td>716.49</td>\n",
       "      <td>706.02</td>\n",
       "      <td>714.99</td>\n",
       "      <td>1972077.0</td>\n",
       "      <td>710.89</td>\n",
       "    </tr>\n",
       "  </tbody>\n",
       "</table>\n",
       "</div>"
      ],
      "text/plain": [
       "    close    high     low    open     volume  adjClose\n",
       "0  697.77  710.89  697.68  700.32  2481145.0    697.77\n",
       "1  718.81  718.81  699.77  703.62  2151419.0    718.81\n",
       "2  718.85  720.00  712.00  719.00  1629003.0    718.85\n",
       "3  712.42  719.45  706.02  718.68  1957974.0    712.42\n",
       "4  710.89  716.49  706.02  714.99  1972077.0    710.89"
      ]
     },
     "execution_count": 25,
     "metadata": {},
     "output_type": "execute_result"
    }
   ],
   "source": [
    "df_for_training.head()"
   ]
  },
  {
   "cell_type": "code",
   "execution_count": 26,
   "metadata": {},
   "outputs": [
    {
     "data": {
      "text/plain": [
       "<AxesSubplot:>"
      ]
     },
     "execution_count": 26,
     "metadata": {},
     "output_type": "execute_result"
    },
    {
     "data": {
      "image/png": "[encoded data removed]",
      "text/plain": [
       "<Figure size 432x288 with 1 Axes>"
      ]
     },
     "metadata": {
      "needs_background": "light"
     },
     "output_type": "display_data"
    }
   ],
   "source": [
    "df_for_plot=df_for_training.tail(500)\n",
    "df_for_plot.plot.line()"
   ]
  },
  {
   "cell_type": "markdown",
   "metadata": {},
   "source": [
    "### Normalizing the Data: Using MinMaxScaler and scaling the data within range (0,1)"
   ]
  },
  {
   "cell_type": "code",
   "execution_count": 27,
   "metadata": {},
   "outputs": [],
   "source": [
    "from sklearn.preprocessing import MinMaxScaler"
   ]
  },
  {
   "cell_type": "code",
   "execution_count": 28,
   "metadata": {},
   "outputs": [],
   "source": [
    "scaler = MinMaxScaler(feature_range=(0,1))"
   ]
  },
  {
   "cell_type": "code",
   "execution_count": 29,
   "metadata": {},
   "outputs": [],
   "source": [
    "df_for_training_scaled = scaler.fit_transform(df_for_training)"
   ]
  },
  {
   "cell_type": "code",
   "execution_count": 30,
   "metadata": {},
   "outputs": [],
   "source": [
    "features = df_for_training_scaled\n",
    "target = df_for_training_scaled[:,0]"
   ]
  },
  {
   "cell_type": "code",
   "execution_count": 31,
   "metadata": {},
   "outputs": [
    {
     "data": {
      "text/plain": [
       "array([[0.02021164, 0.02606763, 0.02386828, 0.02024484, 0.36421369,\n",
       "        0.02021164],\n",
       "       [0.0346221 , 0.03141761, 0.02531858, 0.02252342, 0.30794908,\n",
       "        0.0346221 ],\n",
       "       [0.0346495 , 0.03222146, 0.0338053 , 0.03314299, 0.21880376,\n",
       "        0.0346495 ],\n",
       "       [0.03024554, 0.03184993, 0.02965562, 0.03292204, 0.27493953,\n",
       "        0.03024554],\n",
       "       [0.02919763, 0.02985044, 0.02965562, 0.03037417, 0.27734608,\n",
       "        0.02919763]])"
      ]
     },
     "execution_count": 31,
     "metadata": {},
     "output_type": "execute_result"
    }
   ],
   "source": [
    "features[0:5]"
   ]
  },
  {
   "cell_type": "markdown",
   "metadata": {},
   "source": [
    "### Creating Time Series data by using Timeseries Generator"
   ]
  },
  {
   "cell_type": "code",
   "execution_count": 32,
   "metadata": {},
   "outputs": [],
   "source": [
    "from tensorflow.keras.preprocessing.sequence import TimeseriesGenerator"
   ]
  },
  {
   "cell_type": "code",
   "execution_count": 33,
   "metadata": {},
   "outputs": [
    {
     "data": {
      "text/plain": [
       "(array([[[0.02021164, 0.02606763, 0.02386828, 0.02024484, 0.36421369,\n",
       "          0.02021164],\n",
       "         [0.0346221 , 0.03141761, 0.02531858, 0.02252342, 0.30794908,\n",
       "          0.0346221 ],\n",
       "         [0.0346495 , 0.03222146, 0.0338053 , 0.03314299, 0.21880376,\n",
       "          0.0346495 ]]]),\n",
       " array([0.03024554]))"
      ]
     },
     "execution_count": 33,
     "metadata": {},
     "output_type": "execute_result"
    }
   ],
   "source": [
    "TimeseriesGenerator(features, target, length=3, sampling_rate=1, batch_size=1)[0]"
   ]
  },
  {
   "cell_type": "markdown",
   "metadata": {},
   "source": [
    "### Splitting the data into Training set and Testing set without shuffling - so that the data remains in sequential manner. It's important to give shuffle as false otherwise the data will be splitted randomly"
   ]
  },
  {
   "cell_type": "code",
   "execution_count": 34,
   "metadata": {},
   "outputs": [],
   "source": [
    "from sklearn.model_selection import train_test_split"
   ]
  },
  {
   "cell_type": "code",
   "execution_count": 35,
   "metadata": {},
   "outputs": [],
   "source": [
    "X_train, X_test, y_train, y_test = train_test_split(features, target, test_size=0.25, random_state=101,shuffle=False)"
   ]
  },
  {
   "cell_type": "code",
   "execution_count": 36,
   "metadata": {},
   "outputs": [
    {
     "data": {
      "text/plain": [
       "(944, 6)"
      ]
     },
     "execution_count": 36,
     "metadata": {},
     "output_type": "execute_result"
    }
   ],
   "source": [
    "X_train.shape"
   ]
  },
  {
   "cell_type": "code",
   "execution_count": 37,
   "metadata": {},
   "outputs": [
    {
     "data": {
      "text/plain": [
       "(315, 6)"
      ]
     },
     "execution_count": 37,
     "metadata": {},
     "output_type": "execute_result"
    }
   ],
   "source": [
    "X_test.shape"
   ]
  },
  {
   "cell_type": "markdown",
   "metadata": {},
   "source": [
    "### We are going to use the past 90 days and predict the next 30 days. Hence we create our datasets with that format. These values are quite experimental - we can use the past 120 or more days and predict the next 30 days or more as per our requirement"
   ]
  },
  {
   "cell_type": "code",
   "execution_count": 38,
   "metadata": {},
   "outputs": [],
   "source": [
    "win_length=90\n",
    "batch_size=30\n",
    "num_features=6\n",
    "train_generator = TimeseriesGenerator(X_train, y_train, length=win_length, sampling_rate=1, batch_size=batch_size)\n",
    "test_generator = TimeseriesGenerator(X_test, y_test, length=win_length, sampling_rate=1, batch_size=batch_size)"
   ]
  },
  {
   "cell_type": "markdown",
   "metadata": {},
   "source": [
    "### We've created Train data and Test data in time series format using Time series Generator"
   ]
  },
  {
   "cell_type": "code",
   "execution_count": 39,
   "metadata": {},
   "outputs": [
    {
     "data": {
      "text/plain": [
       "(array([[[0.02021164, 0.02606763, 0.02386828, 0.02024484, 0.36421369,\n",
       "          0.02021164],\n",
       "         [0.0346221 , 0.03141761, 0.02531858, 0.02252342, 0.30794908,\n",
       "          0.0346221 ],\n",
       "         [0.0346495 , 0.03222146, 0.0338053 , 0.03314299, 0.21880376,\n",
       "          0.0346495 ],\n",
       "         ...,\n",
       "         [0.0211979 , 0.01915049, 0.02001706, 0.01463815, 0.17029187,\n",
       "          0.0211979 ],\n",
       "         [0.01796514, 0.01664438, 0.01776173, 0.0173034 , 0.1904114 ,\n",
       "          0.01796514],\n",
       "         [0.02021164, 0.01984626, 0.01790745, 0.01310529, 0.18176147,\n",
       "          0.02021164]],\n",
       " \n",
       "        [[0.0346221 , 0.03141761, 0.02531858, 0.02252342, 0.30794908,\n",
       "          0.0346221 ],\n",
       "         [0.0346495 , 0.03222146, 0.0338053 , 0.03314299, 0.21880376,\n",
       "          0.0346495 ],\n",
       "         [0.03024554, 0.03184993, 0.02965562, 0.03292204, 0.27493953,\n",
       "          0.03024554],\n",
       "         ...,\n",
       "         [0.01796514, 0.01664438, 0.01776173, 0.0173034 , 0.1904114 ,\n",
       "          0.01796514],\n",
       "         [0.02021164, 0.01984626, 0.01790745, 0.01310529, 0.18176147,\n",
       "          0.02021164],\n",
       "         [0.01856101, 0.01749551, 0.01730027, 0.01869817, 0.16337922,\n",
       "          0.01856101]],\n",
       " \n",
       "        [[0.0346495 , 0.03222146, 0.0338053 , 0.03314299, 0.21880376,\n",
       "          0.0346495 ],\n",
       "         [0.03024554, 0.03184993, 0.02965562, 0.03292204, 0.27493953,\n",
       "          0.03024554],\n",
       "         [0.02919763, 0.02985044, 0.02965562, 0.03037417, 0.27734608,\n",
       "          0.02919763],\n",
       "         ...,\n",
       "         [0.02021164, 0.01984626, 0.01790745, 0.01310529, 0.18176147,\n",
       "          0.02021164],\n",
       "         [0.01856101, 0.01749551, 0.01730027, 0.01869817, 0.16337922,\n",
       "          0.01856101],\n",
       "         [0.02559501, 0.02256853, 0.02300434, 0.01967865, 0.20961699,\n",
       "          0.02559501]],\n",
       " \n",
       "        ...,\n",
       " \n",
       "        [[0.04932708, 0.05045995, 0.05065382, 0.05135092, 0.18880209,\n",
       "          0.04932708],\n",
       "         [0.04855313, 0.04941299, 0.05014725, 0.05038425, 0.16109042,\n",
       "          0.04855313],\n",
       "         [0.04646416, 0.04910901, 0.05049421, 0.0497283 , 0.14902631,\n",
       "          0.04646416],\n",
       "         ...,\n",
       "         [0.079737  , 0.07735331, 0.08291998, 0.07785151, 0.07501526,\n",
       "          0.079737  ],\n",
       "         [0.07985343, 0.07933774, 0.08305322, 0.0787146 , 0.10722366,\n",
       "          0.07985343],\n",
       "         [0.07873703, 0.07504492, 0.08126983, 0.07629793, 0.06718884,\n",
       "          0.07873703]],\n",
       " \n",
       "        [[0.04855313, 0.04941299, 0.05014725, 0.05038425, 0.16109042,\n",
       "          0.04855313],\n",
       "         [0.04646416, 0.04910901, 0.05049421, 0.0497283 , 0.14902631,\n",
       "          0.04646416],\n",
       "         [0.05125167, 0.04831867, 0.04699683, 0.04626209, 0.17170511,\n",
       "          0.05125167],\n",
       "         ...,\n",
       "         [0.07985343, 0.07933774, 0.08305322, 0.0787146 , 0.10722366,\n",
       "          0.07985343],\n",
       "         [0.07873703, 0.07504492, 0.08126983, 0.07629793, 0.06718884,\n",
       "          0.07873703],\n",
       "         [0.0782028 , 0.0778111 , 0.08106859, 0.07785151, 0.10092241,\n",
       "          0.0782028 ]],\n",
       " \n",
       "        [[0.04646416, 0.04910901, 0.05049421, 0.0497283 , 0.14902631,\n",
       "          0.04646416],\n",
       "         [0.05125167, 0.04831867, 0.04699683, 0.04626209, 0.17170511,\n",
       "          0.05125167],\n",
       "         [0.05716243, 0.05544522, 0.05619204, 0.05396784, 0.23222259,\n",
       "          0.05716243],\n",
       "         ...,\n",
       "         [0.07873703, 0.07504492, 0.08126983, 0.07629793, 0.06718884,\n",
       "          0.07873703],\n",
       "         [0.0782028 , 0.0778111 , 0.08106859, 0.07785151, 0.10092241,\n",
       "          0.0782028 ],\n",
       "         [0.07457279, 0.07341358, 0.07644288, 0.07546935, 0.11625634,\n",
       "          0.07457279]]]),\n",
       " array([0.01856101, 0.02559501, 0.03207424, 0.03587548, 0.03336872,\n",
       "        0.03608781, 0.03533441, 0.04487518, 0.04705318, 0.04995034,\n",
       "        0.04819698, 0.05101195, 0.04897777, 0.04805315, 0.05034759,\n",
       "        0.05318311, 0.06885381, 0.07165508, 0.0704154 , 0.07186055,\n",
       "        0.07078525, 0.07805212, 0.07773706, 0.07944933, 0.079737  ,\n",
       "        0.07985343, 0.07873703, 0.0782028 , 0.07457279, 0.07646998]))"
      ]
     },
     "execution_count": 39,
     "metadata": {},
     "output_type": "execute_result"
    }
   ],
   "source": [
    "train_generator[0]"
   ]
  },
  {
   "cell_type": "markdown",
   "metadata": {},
   "source": [
    "### Importing required Deep Learning Libraries:"
   ]
  },
  {
   "cell_type": "code",
   "execution_count": 40,
   "metadata": {},
   "outputs": [],
   "source": [
    "from tensorflow.keras.models import Sequential\n",
    "from tensorflow.keras.layers import LSTM,Dense,Dropout,LeakyReLU\n",
    "from tensorflow.keras.callbacks import EarlyStopping"
   ]
  },
  {
   "cell_type": "markdown",
   "metadata": {},
   "source": [
    "### Creating Model"
   ]
  },
  {
   "cell_type": "code",
   "execution_count": 41,
   "metadata": {},
   "outputs": [],
   "source": [
    "model = Sequential()\n",
    "# Adding 1st LSTM Layer\n",
    "model.add(LSTM(128, input_shape = (win_length, num_features),return_sequences = True))\n",
    "model.add(LeakyReLU(alpha=0.5)) \n",
    "\n",
    "# Adding 2nd LSTM layer\n",
    "model.add(LSTM(128,return_sequences=True))\n",
    "model.add(LeakyReLU(alpha=0.5)) \n",
    "\n",
    "# Adding Dropout\n",
    "model.add(Dropout(0.3))\n",
    "\n",
    "# Adding 3rd LSTM layer\n",
    "model.add(LSTM(64,return_sequences=False))\n",
    "\n",
    "# Adding Dropout\n",
    "model.add(Dropout(0.3))\n",
    "\n",
    "# Output layer\n",
    "model.add(Dense(1))\n",
    "\n",
    "# Compiling the Neural Network\n",
    "model.compile(optimizer = 'adam', loss=\"mse\",metrics = ['mae'])\n"
   ]
  },
  {
   "cell_type": "code",
   "execution_count": 42,
   "metadata": {},
   "outputs": [
    {
     "name": "stdout",
     "output_type": "stream",
     "text": [
      "Model: \"sequential\"\n",
      "_________________________________________________________________\n",
      "Layer (type)                 Output Shape              Param #   \n",
      "=================================================================\n",
      "lstm (LSTM)                  (None, 90, 128)           69120     \n",
      "_________________________________________________________________\n",
      "leaky_re_lu (LeakyReLU)      (None, 90, 128)           0         \n",
      "_________________________________________________________________\n",
      "lstm_1 (LSTM)                (None, 90, 128)           131584    \n",
      "_________________________________________________________________\n",
      "leaky_re_lu_1 (LeakyReLU)    (None, 90, 128)           0         \n",
      "_________________________________________________________________\n",
      "dropout (Dropout)            (None, 90, 128)           0         \n",
      "_________________________________________________________________\n",
      "lstm_2 (LSTM)                (None, 64)                49408     \n",
      "_________________________________________________________________\n",
      "dropout_1 (Dropout)          (None, 64)                0         \n",
      "_________________________________________________________________\n",
      "dense (Dense)                (None, 1)                 65        \n",
      "=================================================================\n",
      "Total params: 250,177\n",
      "Trainable params: 250,177\n",
      "Non-trainable params: 0\n",
      "_________________________________________________________________\n"
     ]
    }
   ],
   "source": [
    "model.summary()"
   ]
  },
  {
   "cell_type": "markdown",
   "metadata": {},
   "source": [
    "### We are using early stopping callback to avoid overfitting"
   ]
  },
  {
   "cell_type": "code",
   "execution_count": 43,
   "metadata": {},
   "outputs": [],
   "source": [
    "early_stop = EarlyStopping(monitor='val_loss',patience=5)"
   ]
  },
  {
   "cell_type": "code",
   "execution_count": 44,
   "metadata": {},
   "outputs": [
    {
     "name": "stdout",
     "output_type": "stream",
     "text": [
      "Epoch 1/50\n",
      "29/29 [==============================] - 23s 490ms/step - loss: 0.0031 - mae: 0.0458 - val_loss: 0.0118 - val_mae: 0.0827\n",
      "Epoch 2/50\n",
      "29/29 [==============================] - 10s 335ms/step - loss: 0.0051 - mae: 0.0635 - val_loss: 0.0148 - val_mae: 0.0940\n",
      "Epoch 3/50\n",
      "29/29 [==============================] - 10s 334ms/step - loss: 0.0042 - mae: 0.0558 - val_loss: 0.0190 - val_mae: 0.1131\n",
      "Epoch 4/50\n",
      "29/29 [==============================] - 10s 349ms/step - loss: 0.0015 - mae: 0.0309 - val_loss: 0.0149 - val_mae: 0.0921\n",
      "Epoch 5/50\n",
      "29/29 [==============================] - 10s 342ms/step - loss: 0.0013 - mae: 0.0285 - val_loss: 0.0155 - val_mae: 0.0967\n",
      "Epoch 6/50\n",
      "29/29 [==============================] - 10s 340ms/step - loss: 0.0027 - mae: 0.0398 - val_loss: 0.0152 - val_mae: 0.0978\n"
     ]
    }
   ],
   "source": [
    "history = model.fit(train_generator,epochs=50,callbacks=[early_stop],validation_data=test_generator,shuffle=False)"
   ]
  },
  {
   "cell_type": "code",
   "execution_count": 45,
   "metadata": {},
   "outputs": [],
   "source": [
    "metrics_df = pd.DataFrame(history.history)"
   ]
  },
  {
   "cell_type": "code",
   "execution_count": 46,
   "metadata": {},
   "outputs": [
    {
     "data": {
      "text/html": [
       "<div>\n",
       "<style scoped>\n",
       "    .dataframe tbody tr th:only-of-type {\n",
       "        vertical-align: middle;\n",
       "    }\n",
       "\n",
       "    .dataframe tbody tr th {\n",
       "        vertical-align: top;\n",
       "    }\n",
       "\n",
       "    .dataframe thead th {\n",
       "        text-align: right;\n",
       "    }\n",
       "</style>\n",
       "<table border=\"1\" class=\"dataframe\">\n",
       "  <thead>\n",
       "    <tr style=\"text-align: right;\">\n",
       "      <th></th>\n",
       "      <th>loss</th>\n",
       "      <th>mae</th>\n",
       "      <th>val_loss</th>\n",
       "      <th>val_mae</th>\n",
       "    </tr>\n",
       "  </thead>\n",
       "  <tbody>\n",
       "    <tr>\n",
       "      <th>0</th>\n",
       "      <td>0.003882</td>\n",
       "      <td>0.049997</td>\n",
       "      <td>0.011774</td>\n",
       "      <td>0.082707</td>\n",
       "    </tr>\n",
       "    <tr>\n",
       "      <th>1</th>\n",
       "      <td>0.003965</td>\n",
       "      <td>0.053836</td>\n",
       "      <td>0.014789</td>\n",
       "      <td>0.094032</td>\n",
       "    </tr>\n",
       "    <tr>\n",
       "      <th>2</th>\n",
       "      <td>0.003061</td>\n",
       "      <td>0.045732</td>\n",
       "      <td>0.019019</td>\n",
       "      <td>0.113134</td>\n",
       "    </tr>\n",
       "    <tr>\n",
       "      <th>3</th>\n",
       "      <td>0.002048</td>\n",
       "      <td>0.036088</td>\n",
       "      <td>0.014858</td>\n",
       "      <td>0.092105</td>\n",
       "    </tr>\n",
       "    <tr>\n",
       "      <th>4</th>\n",
       "      <td>0.001559</td>\n",
       "      <td>0.031311</td>\n",
       "      <td>0.015549</td>\n",
       "      <td>0.096742</td>\n",
       "    </tr>\n",
       "  </tbody>\n",
       "</table>\n",
       "</div>"
      ],
      "text/plain": [
       "       loss       mae  val_loss   val_mae\n",
       "0  0.003882  0.049997  0.011774  0.082707\n",
       "1  0.003965  0.053836  0.014789  0.094032\n",
       "2  0.003061  0.045732  0.019019  0.113134\n",
       "3  0.002048  0.036088  0.014858  0.092105\n",
       "4  0.001559  0.031311  0.015549  0.096742"
      ]
     },
     "execution_count": 46,
     "metadata": {},
     "output_type": "execute_result"
    }
   ],
   "source": [
    "metrics_df.head()"
   ]
  },
  {
   "cell_type": "code",
   "execution_count": 47,
   "metadata": {},
   "outputs": [
    {
     "data": {
      "text/plain": [
       "<AxesSubplot:>"
      ]
     },
     "execution_count": 47,
     "metadata": {},
     "output_type": "execute_result"
    },
    {
     "data": {
      "image/png": "[encoded data removed]",
      "text/plain": [
       "<Figure size 432x288 with 1 Axes>"
      ]
     },
     "metadata": {
      "needs_background": "light"
     },
     "output_type": "display_data"
    }
   ],
   "source": [
    "metrics_df[['loss','val_loss']].plot()"
   ]
  },
  {
   "cell_type": "code",
   "execution_count": 48,
   "metadata": {},
   "outputs": [
    {
     "data": {
      "text/plain": [
       "<AxesSubplot:>"
      ]
     },
     "execution_count": 48,
     "metadata": {},
     "output_type": "execute_result"
    },
    {
     "data": {
      "image/png": "[encoded data removed]",
      "text/plain": [
       "<Figure size 432x288 with 1 Axes>"
      ]
     },
     "metadata": {
      "needs_background": "light"
     },
     "output_type": "display_data"
    }
   ],
   "source": [
    "metrics_df[['mae','val_mae']].plot()"
   ]
  },
  {
   "cell_type": "code",
   "execution_count": 49,
   "metadata": {},
   "outputs": [
    {
     "name": "stderr",
     "output_type": "stream",
     "text": [
      "D:\\Boby2020\\ProgramFiles\\Anaconda\\lib\\site-packages\\tensorflow\\python\\keras\\engine\\training.py:1877: UserWarning: `Model.evaluate_generator` is deprecated and will be removed in a future version. Please use `Model.evaluate`, which supports generators.\n",
      "  warnings.warn('`Model.evaluate_generator` is deprecated and '\n"
     ]
    },
    {
     "data": {
      "text/plain": [
       "[0.015200252644717693, 0.09775996953248978]"
      ]
     },
     "execution_count": 49,
     "metadata": {},
     "output_type": "execute_result"
    }
   ],
   "source": [
    "model.evaluate_generator(test_generator, verbose=0)"
   ]
  },
  {
   "cell_type": "code",
   "execution_count": 50,
   "metadata": {},
   "outputs": [
    {
     "name": "stderr",
     "output_type": "stream",
     "text": [
      "D:\\Boby2020\\ProgramFiles\\Anaconda\\lib\\site-packages\\tensorflow\\python\\keras\\engine\\training.py:1905: UserWarning: `Model.predict_generator` is deprecated and will be removed in a future version. Please use `Model.predict`, which supports generators.\n",
      "  warnings.warn('`Model.predict_generator` is deprecated and '\n"
     ]
    }
   ],
   "source": [
    "predictions=model.predict_generator(test_generator)"
   ]
  },
  {
   "cell_type": "code",
   "execution_count": 51,
   "metadata": {},
   "outputs": [
    {
     "data": {
      "text/plain": [
       "225"
      ]
     },
     "execution_count": 51,
     "metadata": {},
     "output_type": "execute_result"
    }
   ],
   "source": [
    "predictions.shape[0]"
   ]
  },
  {
   "cell_type": "markdown",
   "metadata": {},
   "source": [
    "### We are creating a dataframe with predictions and X_test data"
   ]
  },
  {
   "cell_type": "code",
   "execution_count": 53,
   "metadata": {},
   "outputs": [],
   "source": [
    "df_pred=pd.concat([pd.DataFrame(predictions), pd.DataFrame(X_test[:,1:][win_length:])],axis=1)"
   ]
  },
  {
   "cell_type": "code",
   "execution_count": 54,
   "metadata": {},
   "outputs": [
    {
     "data": {
      "text/html": [
       "<div>\n",
       "<style scoped>\n",
       "    .dataframe tbody tr th:only-of-type {\n",
       "        vertical-align: middle;\n",
       "    }\n",
       "\n",
       "    .dataframe tbody tr th {\n",
       "        vertical-align: top;\n",
       "    }\n",
       "\n",
       "    .dataframe thead th {\n",
       "        text-align: right;\n",
       "    }\n",
       "</style>\n",
       "<table border=\"1\" class=\"dataframe\">\n",
       "  <thead>\n",
       "    <tr style=\"text-align: right;\">\n",
       "      <th></th>\n",
       "      <th>0</th>\n",
       "      <th>0</th>\n",
       "      <th>1</th>\n",
       "      <th>2</th>\n",
       "      <th>3</th>\n",
       "      <th>4</th>\n",
       "    </tr>\n",
       "  </thead>\n",
       "  <tbody>\n",
       "    <tr>\n",
       "      <th>0</th>\n",
       "      <td>0.307386</td>\n",
       "      <td>0.373350</td>\n",
       "      <td>0.360110</td>\n",
       "      <td>0.379763</td>\n",
       "      <td>0.348205</td>\n",
       "      <td>0.354954</td>\n",
       "    </tr>\n",
       "    <tr>\n",
       "      <th>1</th>\n",
       "      <td>0.311804</td>\n",
       "      <td>0.369344</td>\n",
       "      <td>0.364225</td>\n",
       "      <td>0.369751</td>\n",
       "      <td>0.277868</td>\n",
       "      <td>0.371234</td>\n",
       "    </tr>\n",
       "    <tr>\n",
       "      <th>2</th>\n",
       "      <td>0.317482</td>\n",
       "      <td>0.373735</td>\n",
       "      <td>0.370179</td>\n",
       "      <td>0.381890</td>\n",
       "      <td>0.312045</td>\n",
       "      <td>0.372035</td>\n",
       "    </tr>\n",
       "    <tr>\n",
       "      <th>3</th>\n",
       "      <td>0.324137</td>\n",
       "      <td>0.370317</td>\n",
       "      <td>0.363836</td>\n",
       "      <td>0.371602</td>\n",
       "      <td>0.237715</td>\n",
       "      <td>0.376220</td>\n",
       "    </tr>\n",
       "    <tr>\n",
       "      <th>4</th>\n",
       "      <td>0.331482</td>\n",
       "      <td>0.411901</td>\n",
       "      <td>0.398068</td>\n",
       "      <td>0.396397</td>\n",
       "      <td>0.362372</td>\n",
       "      <td>0.411609</td>\n",
       "    </tr>\n",
       "    <tr>\n",
       "      <th>...</th>\n",
       "      <td>...</td>\n",
       "      <td>...</td>\n",
       "      <td>...</td>\n",
       "      <td>...</td>\n",
       "      <td>...</td>\n",
       "      <td>...</td>\n",
       "    </tr>\n",
       "    <tr>\n",
       "      <th>220</th>\n",
       "      <td>0.710935</td>\n",
       "      <td>0.958619</td>\n",
       "      <td>0.970702</td>\n",
       "      <td>0.963909</td>\n",
       "      <td>0.171170</td>\n",
       "      <td>0.956556</td>\n",
       "    </tr>\n",
       "    <tr>\n",
       "      <th>221</th>\n",
       "      <td>0.713284</td>\n",
       "      <td>0.952262</td>\n",
       "      <td>0.928984</td>\n",
       "      <td>0.934915</td>\n",
       "      <td>0.225352</td>\n",
       "      <td>0.960652</td>\n",
       "    </tr>\n",
       "    <tr>\n",
       "      <th>222</th>\n",
       "      <td>0.714399</td>\n",
       "      <td>0.964941</td>\n",
       "      <td>0.954041</td>\n",
       "      <td>0.946529</td>\n",
       "      <td>0.153849</td>\n",
       "      <td>0.977302</td>\n",
       "    </tr>\n",
       "    <tr>\n",
       "      <th>223</th>\n",
       "      <td>0.714759</td>\n",
       "      <td>0.960956</td>\n",
       "      <td>0.942356</td>\n",
       "      <td>0.964219</td>\n",
       "      <td>0.241362</td>\n",
       "      <td>0.933598</td>\n",
       "    </tr>\n",
       "    <tr>\n",
       "      <th>224</th>\n",
       "      <td>0.714355</td>\n",
       "      <td>0.944832</td>\n",
       "      <td>0.938726</td>\n",
       "      <td>0.952530</td>\n",
       "      <td>0.295246</td>\n",
       "      <td>0.937365</td>\n",
       "    </tr>\n",
       "  </tbody>\n",
       "</table>\n",
       "<p>225 rows × 6 columns</p>\n",
       "</div>"
      ],
      "text/plain": [
       "            0         0         1         2         3         4\n",
       "0    0.307386  0.373350  0.360110  0.379763  0.348205  0.354954\n",
       "1    0.311804  0.369344  0.364225  0.369751  0.277868  0.371234\n",
       "2    0.317482  0.373735  0.370179  0.381890  0.312045  0.372035\n",
       "3    0.324137  0.370317  0.363836  0.371602  0.237715  0.376220\n",
       "4    0.331482  0.411901  0.398068  0.396397  0.362372  0.411609\n",
       "..        ...       ...       ...       ...       ...       ...\n",
       "220  0.710935  0.958619  0.970702  0.963909  0.171170  0.956556\n",
       "221  0.713284  0.952262  0.928984  0.934915  0.225352  0.960652\n",
       "222  0.714399  0.964941  0.954041  0.946529  0.153849  0.977302\n",
       "223  0.714759  0.960956  0.942356  0.964219  0.241362  0.933598\n",
       "224  0.714355  0.944832  0.938726  0.952530  0.295246  0.937365\n",
       "\n",
       "[225 rows x 6 columns]"
      ]
     },
     "execution_count": 54,
     "metadata": {},
     "output_type": "execute_result"
    }
   ],
   "source": [
    "df_pred"
   ]
  },
  {
   "cell_type": "markdown",
   "metadata": {},
   "source": [
    "### In our next step we are reverse transforming our data frame which we created in our earlier step using the same MinMax Scaler that we used to transform previously"
   ]
  },
  {
   "cell_type": "code",
   "execution_count": 55,
   "metadata": {},
   "outputs": [],
   "source": [
    "rev_trans=scaler.inverse_transform(df_pred)"
   ]
  },
  {
   "cell_type": "code",
   "execution_count": 56,
   "metadata": {},
   "outputs": [
    {
     "data": {
      "text/plain": [
       "array([[1.11705921e+03, 1.22500000e+03, 1.18223000e+03, 1.22100000e+03,\n",
       "        2.38732900e+06, 1.18651000e+03],\n",
       "       [1.12350877e+03, 1.21907000e+03, 1.18816000e+03, 1.20650000e+03,\n",
       "        1.97513500e+06, 1.21028000e+03],\n",
       "       [1.13180006e+03, 1.22557000e+03, 1.19674000e+03, 1.22408000e+03,\n",
       "        2.17542100e+06, 1.21145000e+03],\n",
       "       ...,\n",
       "       [1.71131771e+03, 2.10078000e+03, 2.03813000e+03, 2.04183000e+03,\n",
       "        1.24834900e+06, 2.09517000e+03],\n",
       "       [1.71184413e+03, 2.09488000e+03, 2.02129000e+03, 2.06745000e+03,\n",
       "        1.76120100e+06, 2.03136000e+03],\n",
       "       [1.71125409e+03, 2.07100990e+03, 2.01606000e+03, 2.05052000e+03,\n",
       "        2.07697400e+06, 2.03686000e+03]])"
      ]
     },
     "execution_count": 56,
     "metadata": {},
     "output_type": "execute_result"
    }
   ],
   "source": [
    "rev_trans"
   ]
  },
  {
   "cell_type": "code",
   "execution_count": 57,
   "metadata": {},
   "outputs": [],
   "source": [
    "df_final=df_for_training[predictions.shape[0]*-1:]"
   ]
  },
  {
   "cell_type": "code",
   "execution_count": 58,
   "metadata": {},
   "outputs": [
    {
     "data": {
      "text/plain": [
       "close       225\n",
       "high        225\n",
       "low         225\n",
       "open        225\n",
       "volume      225\n",
       "adjClose    225\n",
       "dtype: int64"
      ]
     },
     "execution_count": 58,
     "metadata": {},
     "output_type": "execute_result"
    }
   ],
   "source": [
    "df_final.count()"
   ]
  },
  {
   "cell_type": "code",
   "execution_count": 59,
   "metadata": {},
   "outputs": [
    {
     "name": "stderr",
     "output_type": "stream",
     "text": [
      "<ipython-input-59-c2df12fb0efd>:1: SettingWithCopyWarning: \n",
      "A value is trying to be set on a copy of a slice from a DataFrame.\n",
      "Try using .loc[row_indexer,col_indexer] = value instead\n",
      "\n",
      "See the caveats in the documentation: https://pandas.pydata.org/pandas-docs/stable/user_guide/indexing.html#returning-a-view-versus-a-copy\n",
      "  df_final['close_Pred']=rev_trans[:,0]\n"
     ]
    }
   ],
   "source": [
    "df_final['close_Pred']=rev_trans[:,0]"
   ]
  },
  {
   "cell_type": "code",
   "execution_count": 60,
   "metadata": {},
   "outputs": [
    {
     "data": {
      "text/html": [
       "<div>\n",
       "<style scoped>\n",
       "    .dataframe tbody tr th:only-of-type {\n",
       "        vertical-align: middle;\n",
       "    }\n",
       "\n",
       "    .dataframe tbody tr th {\n",
       "        vertical-align: top;\n",
       "    }\n",
       "\n",
       "    .dataframe thead th {\n",
       "        text-align: right;\n",
       "    }\n",
       "</style>\n",
       "<table border=\"1\" class=\"dataframe\">\n",
       "  <thead>\n",
       "    <tr style=\"text-align: right;\">\n",
       "      <th></th>\n",
       "      <th>close</th>\n",
       "      <th>high</th>\n",
       "      <th>low</th>\n",
       "      <th>open</th>\n",
       "      <th>volume</th>\n",
       "      <th>adjClose</th>\n",
       "      <th>close_Pred</th>\n",
       "    </tr>\n",
       "  </thead>\n",
       "  <tbody>\n",
       "    <tr>\n",
       "      <th>1034</th>\n",
       "      <td>1186.51</td>\n",
       "      <td>1225.0000</td>\n",
       "      <td>1182.23</td>\n",
       "      <td>1221.00</td>\n",
       "      <td>2387329.0</td>\n",
       "      <td>1186.51</td>\n",
       "      <td>1117.059206</td>\n",
       "    </tr>\n",
       "    <tr>\n",
       "      <th>1035</th>\n",
       "      <td>1210.28</td>\n",
       "      <td>1219.0700</td>\n",
       "      <td>1188.16</td>\n",
       "      <td>1206.50</td>\n",
       "      <td>1975135.0</td>\n",
       "      <td>1210.28</td>\n",
       "      <td>1123.508772</td>\n",
       "    </tr>\n",
       "    <tr>\n",
       "      <th>1036</th>\n",
       "      <td>1211.45</td>\n",
       "      <td>1225.5700</td>\n",
       "      <td>1196.74</td>\n",
       "      <td>1224.08</td>\n",
       "      <td>2175421.0</td>\n",
       "      <td>1211.45</td>\n",
       "      <td>1131.800065</td>\n",
       "    </tr>\n",
       "    <tr>\n",
       "      <th>1037</th>\n",
       "      <td>1217.56</td>\n",
       "      <td>1220.5100</td>\n",
       "      <td>1187.60</td>\n",
       "      <td>1209.18</td>\n",
       "      <td>1739828.0</td>\n",
       "      <td>1217.56</td>\n",
       "      <td>1141.515708</td>\n",
       "    </tr>\n",
       "    <tr>\n",
       "      <th>1038</th>\n",
       "      <td>1269.23</td>\n",
       "      <td>1282.0700</td>\n",
       "      <td>1236.93</td>\n",
       "      <td>1245.09</td>\n",
       "      <td>2470353.0</td>\n",
       "      <td>1269.23</td>\n",
       "      <td>1152.239893</td>\n",
       "    </tr>\n",
       "    <tr>\n",
       "      <th>...</th>\n",
       "      <td>...</td>\n",
       "      <td>...</td>\n",
       "      <td>...</td>\n",
       "      <td>...</td>\n",
       "      <td>...</td>\n",
       "      <td>...</td>\n",
       "      <td>...</td>\n",
       "    </tr>\n",
       "    <tr>\n",
       "      <th>1254</th>\n",
       "      <td>2064.88</td>\n",
       "      <td>2091.4200</td>\n",
       "      <td>2062.14</td>\n",
       "      <td>2067.00</td>\n",
       "      <td>1349856.0</td>\n",
       "      <td>2064.88</td>\n",
       "      <td>1706.260990</td>\n",
       "    </tr>\n",
       "    <tr>\n",
       "      <th>1255</th>\n",
       "      <td>2070.86</td>\n",
       "      <td>2082.0100</td>\n",
       "      <td>2002.02</td>\n",
       "      <td>2025.01</td>\n",
       "      <td>1667377.0</td>\n",
       "      <td>2070.86</td>\n",
       "      <td>1709.690588</td>\n",
       "    </tr>\n",
       "    <tr>\n",
       "      <th>1256</th>\n",
       "      <td>2095.17</td>\n",
       "      <td>2100.7800</td>\n",
       "      <td>2038.13</td>\n",
       "      <td>2041.83</td>\n",
       "      <td>1248349.0</td>\n",
       "      <td>2095.17</td>\n",
       "      <td>1711.317709</td>\n",
       "    </tr>\n",
       "    <tr>\n",
       "      <th>1257</th>\n",
       "      <td>2031.36</td>\n",
       "      <td>2094.8800</td>\n",
       "      <td>2021.29</td>\n",
       "      <td>2067.45</td>\n",
       "      <td>1761201.0</td>\n",
       "      <td>2031.36</td>\n",
       "      <td>1711.844128</td>\n",
       "    </tr>\n",
       "    <tr>\n",
       "      <th>1258</th>\n",
       "      <td>2036.86</td>\n",
       "      <td>2071.0099</td>\n",
       "      <td>2016.06</td>\n",
       "      <td>2050.52</td>\n",
       "      <td>2076974.0</td>\n",
       "      <td>2036.86</td>\n",
       "      <td>1711.254093</td>\n",
       "    </tr>\n",
       "  </tbody>\n",
       "</table>\n",
       "<p>225 rows × 7 columns</p>\n",
       "</div>"
      ],
      "text/plain": [
       "        close       high      low     open     volume  adjClose   close_Pred\n",
       "1034  1186.51  1225.0000  1182.23  1221.00  2387329.0   1186.51  1117.059206\n",
       "1035  1210.28  1219.0700  1188.16  1206.50  1975135.0   1210.28  1123.508772\n",
       "1036  1211.45  1225.5700  1196.74  1224.08  2175421.0   1211.45  1131.800065\n",
       "1037  1217.56  1220.5100  1187.60  1209.18  1739828.0   1217.56  1141.515708\n",
       "1038  1269.23  1282.0700  1236.93  1245.09  2470353.0   1269.23  1152.239893\n",
       "...       ...        ...      ...      ...        ...       ...          ...\n",
       "1254  2064.88  2091.4200  2062.14  2067.00  1349856.0   2064.88  1706.260990\n",
       "1255  2070.86  2082.0100  2002.02  2025.01  1667377.0   2070.86  1709.690588\n",
       "1256  2095.17  2100.7800  2038.13  2041.83  1248349.0   2095.17  1711.317709\n",
       "1257  2031.36  2094.8800  2021.29  2067.45  1761201.0   2031.36  1711.844128\n",
       "1258  2036.86  2071.0099  2016.06  2050.52  2076974.0   2036.86  1711.254093\n",
       "\n",
       "[225 rows x 7 columns]"
      ]
     },
     "execution_count": 60,
     "metadata": {},
     "output_type": "execute_result"
    }
   ],
   "source": [
    "df_final"
   ]
  },
  {
   "cell_type": "code",
   "execution_count": 61,
   "metadata": {},
   "outputs": [
    {
     "data": {
      "text/plain": [
       "<AxesSubplot:>"
      ]
     },
     "execution_count": 61,
     "metadata": {},
     "output_type": "execute_result"
    },
    {
     "data": {
      "image/png": "[encoded data removed]",
      "text/plain": [
       "<Figure size 432x288 with 1 Axes>"
      ]
     },
     "metadata": {
      "needs_background": "light"
     },
     "output_type": "display_data"
    }
   ],
   "source": [
    "df_final[['close','close_Pred']].plot()"
   ]
  },
  {
   "cell_type": "markdown",
   "metadata": {},
   "source": [
    "### From the above graph we can see our model is predicting google stock, it's not perfect but that can further improved with more experimentation"
   ]
  },
  {
   "cell_type": "markdown",
   "metadata": {},
   "source": [
    "### Conclusion: We have successfully created an LSTM Model and predicted the google stock using Mean square error as loss and Mean Absolute error as metrics. We can further improve the model by expermenting with more LSTM Layers and changing Mean squared error to Mean Absolute percentage error. \n",
    "### Hyperparameters that can be tuned: Optimizers - 'SGD','Adam','RMSPROP' with better learning rates can be experimented with to improve the performance of the model"
   ]
  },
  {
   "cell_type": "code",
   "execution_count": null,
   "metadata": {},
   "outputs": [],
   "source": []
  }
 ],
 "metadata": {
  "kernelspec": {
   "display_name": "Python 3",
   "language": "python",
   "name": "python3"
  },
  "language_info": {
   "codemirror_mode": {
    "name": "ipython",
    "version": 3
   },
   "file_extension": ".py",
   "mimetype": "text/x-python",
   "name": "python",
   "nbconvert_exporter": "python",
   "pygments_lexer": "ipython3",
   "version": "3.8.5"
  }
 },
 "nbformat": 4,
 "nbformat_minor": 4
}
